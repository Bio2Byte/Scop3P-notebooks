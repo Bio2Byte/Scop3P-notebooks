{
 "cells": [
  {
   "cell_type": "markdown",
   "id": "3a5dd7d4-467d-4aba-9355-04b482638ea7",
   "metadata": {},
   "source": [
    "# Scop3P\n",
    "\n",
    "A comprehensive database of human phosphosites within their full context. Scop3P integrates sequences (UniProtKB/Swiss-Prot), structures (PDB), and uniformly reprocessed phosphoproteomics data (PRIDE) to annotate all known human phosphosites. \n",
    "\n",
    "Scop3P, available at https://iomics.ugent.be/scop3p, presents a unique resource for visualization and analysis of phosphosites and for understanding of phosphosite structure–function relationships."
   ]
  },
  {
   "cell_type": "markdown",
   "id": "2bb1e9ff-c789-4c96-b71d-5da2af53b437",
   "metadata": {},
   "source": [
    "## Dependencies"
   ]
  },
  {
   "cell_type": "code",
   "execution_count": 1,
   "id": "ba367321-b7ac-44b9-98c0-c800fd1ae008",
   "metadata": {},
   "outputs": [],
   "source": [
    "%%capture\n",
    "!pip install bokeh pandas matplotlib b2btools==3.0.7b2"
   ]
  },
  {
   "cell_type": "code",
   "execution_count": 114,
   "id": "62a30299-1084-4700-a8ed-64f77b68c0c5",
   "metadata": {},
   "outputs": [],
   "source": [
    "%%capture\n",
    "import tempfile\n",
    "import requests\n",
    "import pandas as pd \n",
    "import py3Dmol\n",
    "from b2bTools import SingleSeq, constants\n",
    "from bokeh.io import output_notebook\n",
    "from bokeh.plotting import figure, show\n",
    "from bokeh.models import HoverTool"
   ]
  },
  {
   "cell_type": "markdown",
   "id": "c2dc9e1f-97d2-45a8-a21a-b7258664d265",
   "metadata": {},
   "source": [
    "## Target protein"
   ]
  },
  {
   "cell_type": "code",
   "execution_count": 7,
   "id": "bd5e0bc6-c9ee-485f-9a7c-3adc53f7cd66",
   "metadata": {},
   "outputs": [],
   "source": [
    "TARGET_PROTEIN_ID = \"O00571\" # Write here the Protein ID of your protein of interest\n",
    "PDB_ID = \"4PXA\" # Write here the PDB ID of your protein of interest"
   ]
  },
  {
   "cell_type": "markdown",
   "id": "2e622d9b-1922-4851-ab6b-41ae0d62c395",
   "metadata": {},
   "source": [
    "## API Request\n",
    "\n",
    "This function makes a GET request to SCOP3P API endpoint for a given protein accession ID and returns the protein sequence in string format."
   ]
  },
  {
   "cell_type": "code",
   "execution_count": 8,
   "id": "87d604d4-ba1a-4acb-94b7-0481abe40fac",
   "metadata": {},
   "outputs": [],
   "source": [
    "def fetch_sequence_aminoacids(accession):\n",
    "    BASE_URL = f\"http://uniprot.org/uniprotkb/{accession}.fasta\"\n",
    "    url = f'{BASE_URL}?accession={accession}'\n",
    "    response = requests.get(url)\n",
    "    if response.status_code == 200:\n",
    "        raw_fasta_sequence = response.content.decode(\"utf-8\")\n",
    "    else:\n",
    "        raw_fasta_sequence = \"\"\n",
    "    \n",
    "    lines = raw_fasta_sequence.split('\\n')\n",
    "    protein_id = str(lines[0])\n",
    "    amino_acids = \"\".join([str(l) for l in lines[1:]])\n",
    "    \n",
    "    return protein_id, amino_acids\n",
    "\n",
    "def fetch_protein_modifications(accession):\n",
    "    \"\"\"\n",
    "    Fetches protein modifications for a given UniProt ID.\n",
    "\n",
    "    Parameters:\n",
    "    accession (str): UniProt ID of the protein.\n",
    "\n",
    "    Returns:\n",
    "    dict: A dictionary containing protein modifications.\n",
    "    \"\"\"\n",
    "    BASE_URL = \"https://iomics.ugent.be/scop3p/api/modifications\"\n",
    "    url = f'{BASE_URL}?accession={accession}'\n",
    "    headers = {'accept': 'application/json'}\n",
    "    response = requests.get(url, headers=headers)\n",
    "    if response.status_code == 200:\n",
    "        return response.json()\n",
    "    else:\n",
    "        return None\n"
   ]
  },
  {
   "cell_type": "markdown",
   "id": "c09ac2da-0a01-4b83-97ba-96c9fa9fb598",
   "metadata": {},
   "source": [
    "## Data parsing\n",
    "\n",
    "For parsing the JSON as a table, we'll use pandas library."
   ]
  },
  {
   "cell_type": "code",
   "execution_count": 115,
   "id": "fdd2c83a-bbdf-4ccd-993f-92078980fd9a",
   "metadata": {},
   "outputs": [],
   "source": [
    "scop3P_results = fetch_protein_modifications(TARGET_PROTEIN_ID)\n",
    "_protein_id, sequence = fetch_sequence_aminoacids(TARGET_PROTEIN_ID)\n",
    "\n",
    "protein_name = scop3P_results['proteinName']\n",
    "entry_name = scop3P_results['entryName']\n",
    "accession = scop3P_results['accession']\n",
    "url = scop3P_results['url']\n",
    "modifications = scop3P_results['modifications']\n",
    "\n",
    "print(\"\"\"\n",
    "--------------------------------------------------------------------------------\n",
    "Scop3P: A Comprehensive Resource of Human Phosphosites within Their Full Context\n",
    "--------------------------------------------------------------------------------\n",
    "\n",
    "{0}:{1}\n",
    "\n",
    "Phospho-sites found: {3} entries.\n",
    "\n",
    "Full entry available on SCOP3P website: {2}\n",
    "\"\"\".format(entry_name, protein_name, url, len(modifications)))"
   ]
  },
  {
   "cell_type": "code",
   "execution_count": 116,
   "id": "51c73c52-5955-45d9-9d9d-fa3fe6069bfb",
   "metadata": {},
   "outputs": [],
   "source": [
    "def get_modifications_table(modifications):\n",
    "    \"\"\"\n",
    "    Displays the protein modifications in a pandas DataFrame.\n",
    "\n",
    "    Parameters:\n",
    "    modifications (list): A list of dictionaries, each representing a protein modification.\n",
    "    \"\"\"\n",
    "    df = pd.DataFrame(modifications)\n",
    "    df = df[['residue', 'name', 'evidence', 'position', 'source', 'reference', 'functionalScore', 'specificSinglyPhosphorylated']]\n",
    "    \n",
    "    return df \n",
    "    \n",
    "modifications_table = get_modifications_table(modifications)\n",
    "display(modifications_table)"
   ]
  },
  {
   "cell_type": "markdown",
   "id": "ac2ba7e8-8398-4840-89ba-5b58243710e1",
   "metadata": {},
   "source": [
    "## Predict biophysical features"
   ]
  },
  {
   "cell_type": "code",
   "execution_count": 94,
   "id": "6db8fd71-3716-45fe-a1fd-bbed40f7d8fa",
   "metadata": {},
   "outputs": [],
   "source": [
    "%%capture\n",
    "def predict_biophysical_features(accession, sequence):\n",
    "    with tempfile.NamedTemporaryFile(prefix=\"seq_\", suffix=\".fasta\", mode=\"w\") as fp:\n",
    "        fp.write(f\">{accession}\\n{sequence}\\n\")\n",
    "        fp.flush()\n",
    "        fp.seek(0)\n",
    "        \n",
    "        pred = SingleSeq(fp.name).predict(tools=[constants.TOOL_DYNAMINE, constants.TOOL_DISOMINE, constants.TOOL_EFOLDMINE]).get_all_predictions()\n",
    "    \n",
    "    return pred\n",
    "\n",
    "biophysical_features = predict_biophysical_features(TARGET_PROTEIN_ID, sequence)\n",
    "\n",
    "biophysical_features_target_protein = biophysical_features['proteins'][TARGET_PROTEIN_ID]"
   ]
  },
  {
   "cell_type": "code",
   "execution_count": 95,
   "id": "04ef2539-f2f4-462c-81a3-3214f2ec1468",
   "metadata": {},
   "outputs": [],
   "source": [
    "# values above 1.0 membrane spanning regions, \n",
    "# Values above 0.8 indicate rigid conformations, \n",
    "# Values between 0.69-0.80 are 'context' dependent and capable of being either rigid or flexible.\n",
    "# values below 0.69 flexible regions. \n",
    "\n",
    "phosphorylated = list(modifications_table['position'])\n",
    "biophysical_features_target_protein['BD_label'] = []\n",
    "biophysical_features_target_protein['DO_label'] = []\n",
    "biophysical_features_target_protein['EF_label'] = []\n",
    "biophysical_features_target_protein['psites'] = []\n",
    "\n",
    "for index, residue in enumerate(biophysical_features_target_protein['seq']):\n",
    "    current_backbone = biophysical_features_target_protein['backbone'][index]\n",
    "    biophysical_features_target_protein['BD_label'].append(1 if current_backbone > 1 else 2 if current_backbone > 0.8 else 3 if current_backbone > 0.69 else 4)\n",
    "\n",
    "    current_disorder_propensity = biophysical_features_target_protein['disoMine'][index]\n",
    "    biophysical_features_target_protein['DO_label'].append(1 if current_disorder_propensity > 0.5 else 0)\n",
    "\n",
    "    current_early_folding = biophysical_features_target_protein['earlyFolding'][index]\n",
    "    biophysical_features_target_protein['EF_label'].append(1 if current_early_folding > 0.169 else 0)\n",
    "    \n",
    "    biophysical_features_target_protein['psites'].append(1 if index + 1 in phosphorylated else 0)\n",
    "    "
   ]
  },
  {
   "cell_type": "markdown",
   "id": "33730cd5",
   "metadata": {},
   "source": [
    "### Get the dynamic properties in a pandas DataFrame object"
   ]
  },
  {
   "cell_type": "code",
   "execution_count": 96,
   "id": "30b1451f",
   "metadata": {},
   "outputs": [],
   "source": [
    "dynamic_properties=pd.DataFrame(biophysical_features_target_protein)\n",
    "dynamic_properties['seqpos']=range(1,len(dynamic_properties)+1)"
   ]
  },
  {
   "cell_type": "markdown",
   "id": "6fdfb089",
   "metadata": {},
   "source": [
    "## Plotting results\n",
    "\n",
    "For visualization of dynamic properties we will use Bokeh interactive visualization package"
   ]
  },
  {
   "cell_type": "code",
   "execution_count": 121,
   "id": "4b2ea610",
   "metadata": {},
   "outputs": [],
   "source": [
    "output_notebook()\n",
    "\n",
    "p = figure(width=1000, height=300,tools = \"pan,box_zoom,reset\",toolbar_location=\"below\",\n",
    "           toolbar_sticky=False)\n",
    "p.title.text = 'Biophysical properties'\n",
    "\n",
    "\n",
    "l1=p.line(dynamic_properties.seqpos, dynamic_properties.backbone, line_width=2, color='blue', alpha=0.8,\n",
    "        muted_color='blue', muted_alpha=0.2, legend_label='backbone_dynamics')\n",
    "\n",
    "l2=p.line(dynamic_properties.seqpos, dynamic_properties.disoMine, line_width=2, color='red', alpha=0.8,\n",
    "        muted_color='red', muted_alpha=0.2, legend_label='disorder')\n",
    "\n",
    "l3=p.line(dynamic_properties.seqpos, dynamic_properties.earlyFolding, line_width=2, color='grey', alpha=0.8,\n",
    "        muted_color='grey', muted_alpha=0.2, legend_label='earlyFolding')\n",
    "\n",
    "l4=p.scatter(modifications_table.position,[0.5]*len(modifications_table.position),\\\n",
    "             fill_alpha=0.6, color='grey',size=10,legend_label='P-sites')\n",
    "\n",
    "p.add_tools(HoverTool(tooltips=\"Seqpos:@x, value:@y\", renderers=[l1,l2,l3]))\n",
    "p.add_tools(HoverTool(tooltips=\"Seqpos:@x\", renderers=[l4]))\n",
    "# p.add_tools(BoxZoomTool(match_aspect=False))\n",
    "\n",
    "\n",
    "legend=p.legend[0]\n",
    "p.legend.click_policy=\"mute\"\n",
    "p.add_layout(legend, 'right')\n"
   ]
  },
  {
   "cell_type": "code",
   "execution_count": 117,
   "id": "2a55e06d",
   "metadata": {},
   "outputs": [],
   "source": [
    "show(p)"
   ]
  },
  {
   "cell_type": "markdown",
   "id": "5b10b2d2",
   "metadata": {},
   "source": [
    "## Mutation analysis on Target protein\n",
    "\n",
    "We will try to mutate some amino acids in one or multiple positions and \n",
    "predict the Biophysical properties for the mutated sequence"
   ]
  },
  {
   "cell_type": "code",
   "execution_count": 99,
   "id": "45fdc0e8",
   "metadata": {},
   "outputs": [],
   "source": [
    "def mutateSeq():\n",
    "    poslis=input(\"Please enter the positions to mutate: \" )\n",
    "    poslis=poslis.split(',')\n",
    "    \n",
    "    aalis=input(\"Please enter the aminoacid(s) to mutate: \")\n",
    "    aalis=aalis.split(',')\n",
    "    aalis=[x.upper() for x in aalis]\n",
    "    standardAA=['A','R','N','D','C','E','Q','G','H','I','L','K',\\\n",
    "              'M','F','P','S','T','W','Y','V']\n",
    "    if any(aa not in standardAA for aa in aalis):\n",
    "        print (\"\\nError in input\\nSome amino acid is not recognised, please use standard letters\")\n",
    "       \n",
    "    else:\n",
    "        orig_seq=sequence\n",
    "        mut_seq=orig_seq\n",
    "        if len(poslis) == len(aalis):\n",
    "            poslis=[int(elem)-1 for elem in poslis]\n",
    "            mutzip=zip(poslis,aalis)\n",
    "            for aapos in mutzip:\n",
    "                mut_seq=mut_seq[:aapos[0]] + aapos[1] + mut_seq[aapos[0]+1:]\n",
    "\n",
    "        return mut_seq  "
   ]
  },
  {
   "cell_type": "markdown",
   "id": "9760cc25",
   "metadata": {},
   "source": [
    "## Mutate here\n",
    "Now let's try to enter where we want to mutate and replace the amino acids at the position"
   ]
  },
  {
   "cell_type": "code",
   "execution_count": 118,
   "id": "5213ebd9",
   "metadata": {},
   "outputs": [],
   "source": [
    "mutated_sequence=mutateSeq()"
   ]
  },
  {
   "cell_type": "markdown",
   "id": "e67c4e01",
   "metadata": {},
   "source": [
    "### Predict Biophysical properties for the mutated sequence"
   ]
  },
  {
   "cell_type": "code",
   "execution_count": 111,
   "id": "3c6c0eb1",
   "metadata": {},
   "outputs": [],
   "source": [
    "%%capture\n",
    "\n",
    "biophysical_features_mut = predict_biophysical_features(TARGET_PROTEIN_ID, mutated_sequence)\n",
    "\n",
    "biophysical_features_mut_protein = biophysical_features_mut['proteins'][TARGET_PROTEIN_ID]\n",
    "\n",
    "biophysical_features_mut_protein['BD_label'] = []\n",
    "biophysical_features_mut_protein['DO_label'] = []\n",
    "biophysical_features_mut_protein['EF_label'] = []\n",
    "\n",
    "for index, residue in enumerate(biophysical_features_mut_protein['seq']):\n",
    "    mut_backbone = biophysical_features_mut_protein['backbone'][index]\n",
    "    biophysical_features_mut_protein['BD_label'].append(1 if mut_backbone > 1 else 2 if mut_backbone > 0.8 else 3 if mut_backbone > 0.69 else 4)\n",
    "\n",
    "    mut_disorder_propensity = biophysical_features_mut_protein['disoMine'][index]\n",
    "    biophysical_features_mut_protein['DO_label'].append(1 if mut_disorder_propensity > 0.5 else 0)\n",
    "\n",
    "    mut_early_folding = biophysical_features_mut_protein['earlyFolding'][index]\n",
    "    biophysical_features_mut_protein['EF_label'].append(1 if mut_early_folding > 0.169 else 0)\n",
    "    "
   ]
  },
  {
   "cell_type": "markdown",
   "id": "4fbf666c",
   "metadata": {},
   "source": [
    "### Covert biophysical properties into a pandas DataFrame"
   ]
  },
  {
   "cell_type": "code",
   "execution_count": 112,
   "id": "8df440d6",
   "metadata": {},
   "outputs": [],
   "source": [
    "dynamic_properties_mut=pd.DataFrame(biophysical_features_mut_protein)\n",
    "dynamic_properties_mut['seqpos']=range(1,len(dynamic_properties_mut)+1)"
   ]
  },
  {
   "cell_type": "markdown",
   "id": "3ded33f3",
   "metadata": {},
   "source": [
    "### Plot results of mutated sequence\n",
    "Let's plot the Biophysical properties for the Original and Mutated sequences\n",
    "\n",
    "For visualization of dynamic properties we will use Bokeh interactive visualization package"
   ]
  },
  {
   "cell_type": "code",
   "execution_count": 120,
   "id": "4eb4405e",
   "metadata": {},
   "outputs": [],
   "source": [
    "output_notebook()\n",
    "\n",
    "p_mut = figure(width=1000, height=300,tools = \"pan,box_zoom,reset\",toolbar_location=\"below\",\n",
    "           toolbar_sticky=False)\n",
    "p_mut.title.text = 'Biophysical properties'\n",
    "\n",
    "\n",
    "b1=p_mut.line(dynamic_properties.seqpos, dynamic_properties.backbone, line_width=2, color='skyblue', alpha=0.8,\n",
    "        muted_color='skyblue', muted_alpha=0.2, legend_label='backbone_dynamics')\n",
    "\n",
    "b2=p_mut.line(dynamic_properties_mut.seqpos, dynamic_properties_mut.backbone, line_width=2, color='blue', alpha=0.8,\n",
    "        muted_color='blue', muted_alpha=0.2, legend_label='backbone_mut')\n",
    "\n",
    "\n",
    "d1=p_mut.line(dynamic_properties.seqpos, dynamic_properties.disoMine, line_width=2, color='salmon', alpha=0.8,\n",
    "        muted_color='salmon', muted_alpha=0.2, legend_label='disorder')\n",
    "d2=p_mut.line(dynamic_properties_mut.seqpos, dynamic_properties_mut.disoMine, line_width=2, color='red', alpha=0.8,\n",
    "        muted_color='red', muted_alpha=0.2, legend_label='disorder_mut')\n",
    "\n",
    "e1=p_mut.line(dynamic_properties.seqpos, dynamic_properties.earlyFolding, line_width=2, color='grey', alpha=0.8,\n",
    "        muted_color='grey', muted_alpha=0.2, legend_label='earlyFolding')\n",
    "e2=p_mut.line(dynamic_properties_mut.seqpos, dynamic_properties_mut.earlyFolding, line_width=2, color='black', alpha=0.8,\n",
    "        muted_color='black', muted_alpha=0.2, legend_label='earlyFolding_mut')\n",
    "\n",
    "l4=p_mut.scatter(modifications_table.position,[0.5]*len(modifications_table.position),\\\n",
    "             fill_alpha=0.6, color='grey',size=10,legend_label='P-sites')\n",
    "\n",
    "p_mut.add_tools(HoverTool(tooltips=\"Seqpos:@x, value:@y\", renderers=[b1,b2,d1,d2,e1,e2]))\n",
    "p_mut.add_tools(HoverTool(tooltips=\"Seqpos:@x\", renderers=[l4]))\n",
    "\n",
    "\n",
    "legend=p_mut.legend[0]\n",
    "p_mut.legend.click_policy=\"mute\"\n",
    "p_mut.add_layout(legend, 'right')\n"
   ]
  },
  {
   "cell_type": "code",
   "execution_count": 119,
   "id": "5082b80d",
   "metadata": {},
   "outputs": [],
   "source": [
    "show(p_mut)"
   ]
  },
  {
   "cell_type": "markdown",
   "id": "56675ded",
   "metadata": {},
   "source": [
    "#### Recreate the online ring plot and linearize it"
   ]
  },
  {
   "cell_type": "code",
   "execution_count": 122,
   "id": "2a1da756-da93-47e8-ba01-99e977cac351",
   "metadata": {},
   "outputs": [],
   "source": [
    "import matplotlib.pyplot as plt\n",
    "\n",
    "# plot:\n",
    "fig, ax = plt.subplots()\n",
    "fig.set_figwidth(15)\n",
    "\n",
    "x_len = len(biophysical_features_target_protein['seq'])\n",
    "\n",
    "# Phospho\n",
    "\n",
    "xs = [0.5]\n",
    "vs = [[i for i, r in enumerate(biophysical_features_target_protein['seq']) if biophysical_features_target_protein['psites'][i] == 0]]\n",
    "ax.eventplot(vs, orientation=\"horizontal\", lineoffsets=xs, color='#bab9b7', linelengths=1) # unphosphorylated\n",
    "\n",
    "xs = [0.5]\n",
    "vs = [[i for i, r in enumerate(biophysical_features_target_protein['seq']) if biophysical_features_target_protein['psites'][i] == 1]]\n",
    "ax.eventplot(vs, orientation=\"horizontal\", lineoffsets=xs, color='#ba4d4a', linelengths=1) # phosphorylated\n",
    "\n",
    "# Disorder\n",
    "\n",
    "xs = [1.5]\n",
    "vs = [[i for i, r in enumerate(biophysical_features_target_protein['seq']) if biophysical_features_target_protein['DO_label'][i] == 0]]\n",
    "ax.eventplot(vs, orientation=\"horizontal\", lineoffsets=xs, color='#8874a3', linelengths=1) # Ordered\n",
    " \n",
    "xs = [1.5]\n",
    "vs = [[i for i, r in enumerate(biophysical_features_target_protein['seq']) if biophysical_features_target_protein['DO_label'][i] == 1]]\n",
    "ax.eventplot(vs, orientation=\"horizontal\", lineoffsets=xs, color='#a34054', linelengths=1) # Disorder\n",
    "\n",
    "# Backbone dynamics \n",
    "\n",
    "xs = [2.5]\n",
    "vs = [[i for i, r in enumerate(biophysical_features_target_protein['seq']) if biophysical_features_target_protein['BD_label'][i] == 1]]\n",
    "ax.eventplot(vs, orientation=\"horizontal\", lineoffsets=xs, color='#cac919', linelengths=1) # membrane spanning \n",
    "\n",
    "xs = [2.5]\n",
    "vs = [[i for i, r in enumerate(biophysical_features_target_protein['seq']) if biophysical_features_target_protein['BD_label'][i] == 2]]\n",
    "ax.eventplot(vs, orientation=\"horizontal\", lineoffsets=xs, color='#ffa700', linelengths=1) # rigid\n",
    "\n",
    "xs = [2.5]\n",
    "vs = [[i for i, r in enumerate(biophysical_features_target_protein['seq']) if biophysical_features_target_protein['BD_label'][i] == 3]]\n",
    "ax.eventplot(vs, orientation=\"horizontal\", lineoffsets=xs, color='#cac919', linelengths=1) # context dependent\n",
    "\n",
    "xs = [2.5]\n",
    "vs = [[i for i, r in enumerate(biophysical_features_target_protein['seq']) if biophysical_features_target_protein['BD_label'][i] == 4]]\n",
    "ax.eventplot(vs, orientation=\"horizontal\", lineoffsets=xs, color='#27bd2f', linelengths=1) # flexible\n",
    "\n",
    "\n",
    "# Early folding\n",
    "\n",
    "xs = [3.5]\n",
    "vs = [[i for i, r in enumerate(biophysical_features_target_protein['seq']) if biophysical_features_target_protein['EF_label'][i] == 0]]\n",
    "ax.eventplot(vs, orientation=\"horizontal\", lineoffsets=xs, color='#5779b2', linelengths=1) # early folding\n",
    "\n",
    "xs = [3.5]\n",
    "vs = [[i for i, r in enumerate(biophysical_features_target_protein['seq']) if biophysical_features_target_protein['EF_label'][i] == 1]]\n",
    "ax.eventplot(vs, orientation=\"horizontal\", lineoffsets=xs, color='#54b2a9', linelengths=1) # non-early folding\n",
    "\n",
    "ax.set(\n",
    "    xlim=(0, x_len),\n",
    "    ylim=(0, 4), yticks=[0.5, 1.5, 2.5, 3.5]\n",
    ")\n",
    "\n",
    "ax.set_xlabel('Positions')\n",
    "ax.set_yticklabels(['amino acids', 'disordered propensity', 'backbone dynamics', 'early folding'])\n",
    "ax.minorticks_off()\n",
    "ax.autoscale()\n",
    "plt.show()"
   ]
  },
  {
   "cell_type": "code",
   "execution_count": null,
   "id": "289ebb56",
   "metadata": {},
   "outputs": [],
   "source": []
  }
 ],
 "metadata": {
  "kernelspec": {
   "display_name": "Python 3 (ipykernel)",
   "language": "python",
   "name": "python3"
  },
  "language_info": {
   "codemirror_mode": {
    "name": "ipython",
    "version": 3
   },
   "file_extension": ".py",
   "mimetype": "text/x-python",
   "name": "python",
   "nbconvert_exporter": "python",
   "pygments_lexer": "ipython3",
   "version": "3.10.6"
  }
 },
 "nbformat": 4,
 "nbformat_minor": 5
}
