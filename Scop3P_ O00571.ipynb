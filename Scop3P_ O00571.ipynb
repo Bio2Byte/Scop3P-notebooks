{
 "cells": [
  {
   "cell_type": "markdown",
   "id": "00c49e34-1e1d-4613-838a-151b3f3ab427",
   "metadata": {},
   "source": [
    "# Scop3P\n",
    "\n",
    "A comprehensive database of human phosphosites within their full context. Scop3P integrates sequences (UniProtKB/Swiss-Prot), structures (PDB), and uniformly reprocessed phosphoproteomics data (PRIDE) to annotate all known human phosphosites. \n",
    "\n",
    "Scop3P, available at https://iomics.ugent.be/scop3p, presents a unique resource for visualization and analysis of phosphosites and for understanding of phosphosite structure–function relationships.\n",
    "\n",
    "Scop3P DOI: https://doi.org/10.1021/acs.jproteome.0c00306"
   ]
  },
  {
   "cell_type": "markdown",
   "id": "2db68218-a523-4ad0-80eb-c3b108c5c651",
   "metadata": {},
   "source": [
    "## Dependencies"
   ]
  },
  {
   "cell_type": "code",
   "execution_count": 1,
   "id": "12fff9d2-f542-4b8f-abc5-6c5714edc3b6",
   "metadata": {},
   "outputs": [],
   "source": [
    "%%capture\n",
    "!pip install pandas matplotlib seaborn"
   ]
  },
  {
   "cell_type": "code",
   "execution_count": 2,
   "id": "1dc399cb-0c90-4c79-9a98-9b1d5930260b",
   "metadata": {},
   "outputs": [],
   "source": [
    "import requests\n",
    "import pandas as pd\n",
    "import numpy as np\n",
    "import matplotlib.pyplot as plt\n",
    "import seaborn as sns\n",
    "sns.set(style=\"darkgrid\", font_scale=1)"
   ]
  },
  {
   "cell_type": "markdown",
   "id": "c4e37259-cad3-4046-b7db-4a8835193b68",
   "metadata": {},
   "source": [
    "## Target protein"
   ]
  },
  {
   "cell_type": "code",
   "execution_count": 3,
   "id": "f06ced6f-7b60-4cf2-a2bd-f5baa1015ed7",
   "metadata": {},
   "outputs": [],
   "source": [
    "target_accession = \"O00571\""
   ]
  },
  {
   "cell_type": "markdown",
   "id": "ee3fc907-4b97-4797-9581-fbcbfe95da27",
   "metadata": {},
   "source": [
    "## API Request\n",
    "\n",
    "These functions make GET requests to UniProt and SCOP3P API endpoints for a given protein accession ID and returns the responses. It uses the requests library for HTTP requests.\n",
    "\n",
    "- Fetch sequence of amino acids from UniProt: Returns the protein sequence in string format.\n",
    "- Fetch modifications from SCOP3P: Returns the modifications in JSON format."
   ]
  },
  {
   "cell_type": "markdown",
   "id": "d222d6e7-15f7-4d7f-a954-de9c33fb6386",
   "metadata": {},
   "source": [
    "### Fetch protein sequence from UniProt"
   ]
  },
  {
   "cell_type": "code",
   "execution_count": 4,
   "id": "c5f84c66-f85f-4db8-9052-665c6b2e55f1",
   "metadata": {},
   "outputs": [],
   "source": [
    "def fetch_sequence_aminoacids(accession):\n",
    "    BASE_URL = f\"http://uniprot.org/uniprotkb/{target_accession}.fasta\"\n",
    "    url = f'{BASE_URL}?accession={accession}'\n",
    "    response = requests.get(url)\n",
    "    if response.status_code == 200:\n",
    "        raw_fasta_sequence = response.content.decode(\"utf-8\")\n",
    "    else:\n",
    "        raw_fasta_sequence = \"\"\n",
    "    \n",
    "    lines = raw_fasta_sequence.split('\\n')\n",
    "    protein_id = str(lines[0])\n",
    "    amino_acids = \"\".join([str(l) for l in lines[1:]])\n",
    "    \n",
    "    return protein_id, amino_acids"
   ]
  },
  {
   "cell_type": "code",
   "execution_count": 13,
   "id": "4ee969ea-f01f-4253-a24a-74763176ad25",
   "metadata": {},
   "outputs": [],
   "source": [
    "target_protein_id, target_amino_acids = fetch_sequence_aminoacids(target_accession)\n",
    "target_length = len(target_amino_acids)\n",
    "\n",
    "print(f\"{target_accession}: {target_length} amino acids\")"
   ]
  },
  {
   "cell_type": "markdown",
   "id": "9692c40b-e17e-4eed-8873-ead3d1290638",
   "metadata": {},
   "source": [
    "### Fetch modifications from Scop3P"
   ]
  },
  {
   "cell_type": "code",
   "execution_count": 6,
   "id": "25e57d6a-09c1-450c-949b-9e656027b26a",
   "metadata": {},
   "outputs": [],
   "source": [
    "def fetch_protein_modifications(accession):\n",
    "    \"\"\"\n",
    "    Fetches protein modifications for a given UniProt ID.\n",
    "\n",
    "    Parameters:\n",
    "    accession (str): UniProt ID of the protein.\n",
    "\n",
    "    Returns:\n",
    "    dict: A dictionary containing protein modifications.\n",
    "    \"\"\"\n",
    "    BASE_URL = \"https://iomics.ugent.be/scop3p/api/modifications\"\n",
    "    url = f'{BASE_URL}?accession={accession}'\n",
    "    headers = {'accept': 'application/json'}\n",
    "    response = requests.get(url, headers=headers)\n",
    "    if response.status_code == 200:\n",
    "        return response.json()\n",
    "    else:\n",
    "        return None"
   ]
  },
  {
   "cell_type": "code",
   "execution_count": 7,
   "id": "250e4208-0e3a-4c46-ac54-ed111444f957",
   "metadata": {},
   "outputs": [],
   "source": [
    "scop3P_results = fetch_protein_modifications(target_accession)\n",
    "\n",
    "protein_name = scop3P_results['proteinName']\n",
    "entry_name = scop3P_results['entryName']\n",
    "accession = scop3P_results['accession']\n",
    "url = scop3P_results['url']\n",
    "modifications = scop3P_results['modifications']\n",
    "\n",
    "assert target_accession == accession, \"The response's accession doesn't match with the requested one\""
   ]
  },
  {
   "cell_type": "code",
   "execution_count": 14,
   "id": "1e4ad762-641a-421c-82ee-a3c9992a47eb",
   "metadata": {},
   "outputs": [],
   "source": [
    "print(\"\"\"\n",
    "--------------------------------------------------------------------------------\n",
    "Scop3P: A Comprehensive Resource of Human Phosphosites within Their Full Context\n",
    "--------------------------------------------------------------------------------\n",
    "\n",
    "Here are some details for your protein {0}\n",
    "\n",
    "Entry name: {1}\n",
    "Protein names: {2}\n",
    "\n",
    "Phospho-sites found: {3} entries.\n",
    "\n",
    "Full entry available on Scop3P website: {4}\n",
    "\n",
    "--------------------------------------------------------------------------------\n",
    "\"\"\".format(accession, entry_name, protein_name, len(modifications),url))"
   ]
  },
  {
   "cell_type": "markdown",
   "id": "cc54392c-3610-4b5b-a27d-fa9d89599c30",
   "metadata": {},
   "source": [
    "## Data parsing\n",
    "\n",
    "For parsing the JSON as a table, we'll use pandas library."
   ]
  },
  {
   "cell_type": "code",
   "execution_count": 15,
   "id": "0b810e9d-2073-46b7-a90a-615b0939be1b",
   "metadata": {},
   "outputs": [],
   "source": [
    "def get_modification_table(modifications):\n",
    "    \"\"\"\n",
    "    Displays the protein modifications in a pandas DataFrame.\n",
    "\n",
    "    Parameters:\n",
    "    modifications (list): A list of dictionaries, each representing a protein modification.\n",
    "    \"\"\"\n",
    "    df = pd.DataFrame(modifications)\n",
    "    df = df[['residue', 'name', 'evidence', 'position', 'source', 'reference', 'functionalScore',\\\n",
    "             'specificSinglyPhosphorylated']]\n",
    "    df=df.drop('reference',axis=1)\n",
    "    df.columns=['Modified_residue', 'Modification_name', 'UniProt_evidence', 'Modified_position',\\\n",
    "                'Source', 'functionalScore', 'Singly phosphorylted in peptide?']\n",
    "        \n",
    "    return df \n",
    "    \n",
    "modification_table = get_modification_table(modifications)\n",
    "\n",
    "display(modification_table)"
   ]
  },
  {
   "cell_type": "markdown",
   "id": "8f9412f2-84a8-4503-8cac-9a32b531b7df",
   "metadata": {},
   "source": [
    "## Plotting Results\n",
    "\n",
    "For plotting, we want to visualize the distribution of functional scores for the protein modifications and the phospho-sites per residue. We'll use seaborn library."
   ]
  },
  {
   "cell_type": "markdown",
   "id": "7ef53690-1be2-419a-9352-dc1f8d1822b6",
   "metadata": {},
   "source": [
    "### Functional scores"
   ]
  },
  {
   "cell_type": "code",
   "execution_count": 16,
   "id": "28db6110-8fb4-4503-911b-e9d67409fa99",
   "metadata": {},
   "outputs": [],
   "source": [
    "def plot_functional_scores(modifications):\n",
    "    \"\"\"\n",
    "    Plots the distribution of functional scores for protein modifications.\n",
    "\n",
    "    Parameters:\n",
    "    modifications (list): A list of modification dictionaries.\n",
    "    \"\"\"\n",
    "    # Filter out modifications with a null functionalScore\n",
    "    functional_scores = modifications['functionalScore']\n",
    "\n",
    "    plt.figure(figsize=(10, 6))\n",
    "    sns.histplot(functional_scores,color='indianred',kde=True,kde_kws=dict(cut=3),bins=10)\n",
    "    plt.title('Distribution of Functional Scores')\n",
    "    plt.xlabel('Functional Score')\n",
    "    plt.ylabel('Frequency')\n",
    "    plt.show()\n",
    "\n",
    "plot_functional_scores(modification_table)"
   ]
  },
  {
   "cell_type": "markdown",
   "id": "57aab64a-4818-4ff0-ac25-d6a2c2330155",
   "metadata": {},
   "source": [
    "### Phospho-sites per position"
   ]
  },
  {
   "cell_type": "code",
   "execution_count": 12,
   "id": "af775224-0a81-482c-a62e-e81439240259",
   "metadata": {},
   "outputs": [],
   "source": [
    "# def plot_modifications_by_position(df, sequence_length, position_col='Modified_position', name_col='Modified_residue', label_interval=25):\n",
    "#     \"\"\"\n",
    "#     Plots a bar plot showing the number of modifications at each position in the protein sequence,\n",
    "#     grouped by modification name, covering the entire sequence length.\n",
    "\n",
    "#     Parameters:\n",
    "#     df (pd.DataFrame): DataFrame containing the modifications data.\n",
    "#     sequence_length (int): The total length of the protein sequence.\n",
    "#     position_col (str): Name of the column in df that represents the position of the modification.\n",
    "#     name_col (str): Name of the column in df that represents the name of the modification.\n",
    "#     \"\"\"\n",
    "#     # Group by position and name, then count occurrences\n",
    "#     modification_counts = df.groupby([position_col, name_col]).size().reset_index(name='counts')\n",
    "    \n",
    "#     # Pivot the data for plotting\n",
    "#     pivot_df = modification_counts.pivot(index=position_col, columns=name_col, values='counts').fillna(0)\n",
    "    \n",
    "#     # Ensure all positions are represented up to the sequence length\n",
    "#     all_positions = pd.DataFrame(index=np.arange(1, sequence_length + 1))\n",
    "#     pivot_df = all_positions.join(pivot_df).fillna(0)\n",
    "    \n",
    "#     # Plot\n",
    "#     pivot_df.plot(kind='bar', stacked=True, figsize=(12, 6), width=1)\n",
    "#     plt.title('Modifications by Position and Type')\n",
    "#     plt.xlabel('Position')\n",
    "#     plt.ylabel('Number of Modifications')\n",
    "    \n",
    "#     # Reduce the number of x-axis labels for better readability\n",
    "#     ticks_to_show = np.arange(0, sequence_length + 1, label_interval)\n",
    "#     plt.xticks(ticks=ticks_to_show, labels=ticks_to_show, rotation=45)\n",
    "    \n",
    "#     plt.legend(title='Modification Type', bbox_to_anchor=(1.05, 1), loc='upper left')\n",
    "#     plt.tight_layout(rect=[0, 0, 0.85, 1])  # Adjust layout to make room for the legend\n",
    "\n",
    "#     plt.show()\n",
    "\n",
    "\n",
    "# plot_modifications_by_position(modification_table, target_length)"
   ]
  },
  {
   "cell_type": "code",
   "execution_count": null,
   "id": "fcd3e4a1",
   "metadata": {},
   "outputs": [],
   "source": []
  }
 ],
 "metadata": {
  "kernelspec": {
   "display_name": "Python 3 (ipykernel)",
   "language": "python",
   "name": "python3"
  },
  "language_info": {
   "codemirror_mode": {
    "name": "ipython",
    "version": 3
   },
   "file_extension": ".py",
   "mimetype": "text/x-python",
   "name": "python",
   "nbconvert_exporter": "python",
   "pygments_lexer": "ipython3",
   "version": "3.10.6"
  }
 },
 "nbformat": 4,
 "nbformat_minor": 5
}
