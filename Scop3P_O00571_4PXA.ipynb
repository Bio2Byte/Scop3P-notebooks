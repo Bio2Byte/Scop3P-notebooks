{
 "cells": [
  {
   "cell_type": "markdown",
   "id": "3a5dd7d4-467d-4aba-9355-04b482638ea7",
   "metadata": {},
   "source": [
    "# Scop3P\n",
    "\n",
    "A comprehensive database of human phosphosites within their full context. Scop3P integrates sequences (UniProtKB/Swiss-Prot), structures (PDB), and uniformly reprocessed phosphoproteomics data (PRIDE) to annotate all known human phosphosites. \n",
    "\n",
    "Scop3P, available at https://iomics.ugent.be/scop3p, presents a unique resource for visualization and analysis of phosphosites and for understanding of phosphosite structure–function relationships."
   ]
  },
  {
   "cell_type": "markdown",
   "id": "2bb1e9ff-c789-4c96-b71d-5da2af53b437",
   "metadata": {},
   "source": [
    "## Dependencies"
   ]
  },
  {
   "cell_type": "code",
   "execution_count": null,
   "id": "ba367321-b7ac-44b9-98c0-c800fd1ae008",
   "metadata": {},
   "outputs": [],
   "source": [
    "%%capture\n",
    "!pip install pandas matplotlib py3Dmol"
   ]
  },
  {
   "cell_type": "code",
   "execution_count": null,
   "id": "62a30299-1084-4700-a8ed-64f77b68c0c5",
   "metadata": {},
   "outputs": [],
   "source": [
    "import requests\n",
    "import pandas as pd \n",
    "import py3Dmol"
   ]
  },
  {
   "cell_type": "markdown",
   "id": "c2dc9e1f-97d2-45a8-a21a-b7258664d265",
   "metadata": {},
   "source": [
    "## Target protein"
   ]
  },
  {
   "cell_type": "code",
   "execution_count": null,
   "id": "bd5e0bc6-c9ee-485f-9a7c-3adc53f7cd66",
   "metadata": {},
   "outputs": [],
   "source": [
    "TARGET_PROTEIN_ID = \"O00571\" # Write here the Protein ID of your protein of interest\n",
    "PDB_ID = \"4PXA\" # Write here the PDB ID of your protein of interest"
   ]
  },
  {
   "cell_type": "markdown",
   "id": "2e622d9b-1922-4851-ab6b-41ae0d62c395",
   "metadata": {},
   "source": [
    "## API Request\n",
    "\n",
    "This function makes a GET request to SCOP3P API endpoint for a given protein accession ID and returns the protein sequence in string format."
   ]
  },
  {
   "cell_type": "code",
   "execution_count": null,
   "id": "87d604d4-ba1a-4acb-94b7-0481abe40fac",
   "metadata": {},
   "outputs": [],
   "source": [
    "def fetch_protein_modifications(accession):\n",
    "    \"\"\"\n",
    "    Fetches protein modifications for a given UniProt ID.\n",
    "\n",
    "    Parameters:\n",
    "    accession (str): UniProt ID of the protein.\n",
    "\n",
    "    Returns:\n",
    "    dict: A dictionary containing protein modifications.\n",
    "    \"\"\"\n",
    "    BASE_URL = \"https://iomics.ugent.be/scop3p/api/modifications\"\n",
    "    url = f'{BASE_URL}?accession={accession}'\n",
    "    headers = {'accept': 'application/json'}\n",
    "    response = requests.get(url, headers=headers)\n",
    "    if response.status_code == 200:\n",
    "        return response.json()\n",
    "    else:\n",
    "        return None"
   ]
  },
  {
   "cell_type": "markdown",
   "id": "c09ac2da-0a01-4b83-97ba-96c9fa9fb598",
   "metadata": {},
   "source": [
    "## Data parsing\n",
    "\n",
    "For parsing the JSON as a table, we'll use pandas library."
   ]
  },
  {
   "cell_type": "code",
   "execution_count": null,
   "id": "fdd2c83a-bbdf-4ccd-993f-92078980fd9a",
   "metadata": {},
   "outputs": [],
   "source": [
    "scop3P_results = fetch_protein_modifications(TARGET_PROTEIN_ID)\n",
    "\n",
    "protein_name = scop3P_results['proteinName']\n",
    "entry_name = scop3P_results['entryName']\n",
    "accession = scop3P_results['accession']\n",
    "url = scop3P_results['url']\n",
    "modifications = scop3P_results['modifications']\n",
    "\n",
    "print(\"\"\"\n",
    "--------------------------------------------------------------------------------\n",
    "Scop3P: A Comprehensive Resource of Human Phosphosites within Their Full Context\n",
    "--------------------------------------------------------------------------------\n",
    "\n",
    "{0}:{1}\n",
    "\n",
    "Phospho-sites found: {3} entries.\n",
    "\n",
    "Full entry available on SCOP3P website: {2}\n",
    "\"\"\".format(entry_name, protein_name, url, len(modifications)))"
   ]
  },
  {
   "cell_type": "code",
   "execution_count": null,
   "id": "51c73c52-5955-45d9-9d9d-fa3fe6069bfb",
   "metadata": {},
   "outputs": [],
   "source": [
    "def get_modifications_table(modifications):\n",
    "    \"\"\"\n",
    "    Displays the protein modifications in a pandas DataFrame.\n",
    "\n",
    "    Parameters:\n",
    "    modifications (list): A list of dictionaries, each representing a protein modification.\n",
    "    \"\"\"\n",
    "    df = pd.DataFrame(modifications)\n",
    "    df = df[['residue', 'name', 'evidence', 'position', 'source', 'reference', 'functionalScore', 'specificSinglyPhosphorylated']]\n",
    "    \n",
    "    return df \n",
    "    \n",
    "modifications_table = get_modifications_table(modifications)\n",
    "display(modifications_table)"
   ]
  },
  {
   "cell_type": "markdown",
   "id": "07038b8d-ba1e-4f2e-9c60-74e1b353937e",
   "metadata": {},
   "source": [
    "## Rendering results\n",
    "\n",
    "For visualizing the 3D structure, we'll use py3Dmol library."
   ]
  },
  {
   "cell_type": "code",
   "execution_count": null,
   "id": "2a1da756-da93-47e8-ba01-99e977cac351",
   "metadata": {},
   "outputs": [],
   "source": [
    "def display_3D(modifications_table):\n",
    "    view = py3Dmol.view(query=f'pdb:{PDB_ID}')\n",
    "    \n",
    "    view.setStyle({'cartoon': { 'color': 'skyblue' }})\n",
    "    view.addSurface(py3Dmol.VDW, {'opacity': 0.60, 'color': 'white' })\n",
    "    \n",
    "    for index, row in modifications_table.iterrows():\n",
    "        position = row['position']\n",
    "        residue = row['residue']\n",
    "        \n",
    "        if residue == 'PhosphoY':\n",
    "            color = '#2CA02C'\n",
    "        elif residue == 'PhosphoS':\n",
    "            color = '#1F77B4'\n",
    "        elif residue == 'PhosphoT':\n",
    "            color = '#FF7F0E'\n",
    "        else:\n",
    "            color = '#7B241C'\n",
    "        \n",
    "        view.addSurface(py3Dmol.VDW, {'opacity': 1.0, 'color': color }, {'resi': [str(position)]})\n",
    "        view.setHoverable(\n",
    "            {},\n",
    "            True,\n",
    "            \"\"\"\n",
    "            function(atom, viewer, event, container) {{\n",
    "                if (!atom.label) {{\n",
    "                    atom.label = viewer.addLabel(\n",
    "                        \"{0} \" + atom.resn + {1}, {{ 'position': atom, backgroundColor: 'mintcream', fontColor:'black' }}\n",
    "                    );\n",
    "                }}\n",
    "            }}\n",
    "            \"\"\".format(residue, position),\n",
    "            \"\"\"\n",
    "            function(atom,viewer) {\n",
    "                if(atom.label) {\n",
    "                    viewer.removeLabel(atom.label);\n",
    "                    delete atom.label;\n",
    "                }\n",
    "            }\n",
    "            \"\"\"\n",
    "        )\n",
    "    \n",
    "    view.zoomTo()\n",
    "    return view"
   ]
  },
  {
   "cell_type": "code",
   "execution_count": null,
   "id": "9dc4d093-ff96-4f74-9276-563f0c83d02f",
   "metadata": {},
   "outputs": [],
   "source": [
    "display_3D(modifications_table)"
   ]
  }
 ],
 "metadata": {
  "kernelspec": {
   "display_name": "Python 3 (ipykernel)",
   "language": "python",
   "name": "python3"
  },
  "language_info": {
   "codemirror_mode": {
    "name": "ipython",
    "version": 3
   },
   "file_extension": ".py",
   "mimetype": "text/x-python",
   "name": "python",
   "nbconvert_exporter": "python",
   "pygments_lexer": "ipython3",
   "version": "3.11.6"
  }
 },
 "nbformat": 4,
 "nbformat_minor": 5
}
